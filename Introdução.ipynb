{
 "cells": [
  {
   "cell_type": "markdown",
   "metadata": {},
   "source": [
    "# O que é Python? \n",
    "Em uma rapida busca no google, ele nos diz que: \"é uma linguagem de programação de alto nível, interpretada, de script, imperativa, orientada a objetos, funcional, de tipagem dinâmica e forte.\"\n",
    "Bom, no dia que eu pesquisei isso, não entendi nada!! Primeiro pensei que por ela ser de alto nível seria muito complicada de aprender hahahaha.\n",
    "Mas, você vai ver que não é bem assim.\n",
    "Para Começar e não dar um nó na sua cabeça, é importante saber o que significa: alto nível, interpretada, e tipagem dinâmica e forte.\n",
    "\n",
    "Então, vamos la:\n",
    "    - linguagem alto nível > existe dois tipos de linguagens o de alto e baixo nível. O baixo nível são linguagens \n",
    "    como assembly, que são muito próximas a linguagem real do computador e elas normamente são bem mais  dificeis \n",
    "    de você aprender por conta disso. Já linguagens alto nível são linguagem mais distantes da maquina, como \n",
    "    python, que nos fornece palavras que são bem proximas do que usamos normalmente, o que dá uma familiaridade \n",
    "    pra quem tá aprendendo.\n",
    "    - interpretada > existem também dois tipos, a interpreta e a compilada, linguagens compiladas tem seu codigo \n",
    "    \"traduzido\" para um codigo fonte(em binario) que é o que vai ser lido pela maquina, uma dessas linguagens é \n",
    "    Java. No caso da interpretada, essa tradução é feita em tempo de execução, ou seja, quando seu cadigo ta sendo \n",
    "    executado, ele vai interpretando esse codigo linha a linha. Normalmente, linguagens interpretada tem um \n",
    "    desempenho menor em tempo de execução, por conta disso.\n",
    "    - tipagem dinâmica > é aquela onde basicamente a mesma variavel que inicialmente continha um texto, vai \n",
    "    terminar contendo um número, pois essas linguagens não pedem para declarar o tipo da variavel, como em Java \n",
    "    que você obrigatoriamente tem que declarar. Mas, normalmente isso não é muito recomendado pois pode tornar seu \n",
    "    codigo confuso e gerar bug.\n",
    "    - tipagem forte > basicamente significa que você não pode tentar somar um texto com um número, pois a tipagem \n",
    "    deles são diferentes! Em Python se você tentar somar um texto com um número ele vai realizar, pois ele já \n",
    "    converte automaticamente para você, mas não se engane, ele é fortemente tipado e pode dar erro em algum lugar, \n",
    "    então sempre cuidado para não gerar bug! \n",
    "    \n",
    "\n",
    "\n",
    "    \n",
    "    \n"
   ]
  },
  {
   "cell_type": "markdown",
   "metadata": {},
   "source": [
    "Agora que você já entendeu um pouco do que é Python, vamos começar com os tipos primitivos.\n",
    "Mas, o que são tipos primitivos?\n",
    "Bom, toda linguagem de programação sem seus tipos de dados, que são utilizadas para classificar as informações.\n",
    "E os tipos primitivos são os tipos que já vem determinados dela (você pode criar outros \"tipos\"). \n",
    "Você pode encontrar variação desses tipos primitivos entre as linguagems, mas em python, são: string(str), inteiro(int), booleano(bool), ponto flutuante(float) e complexo (complex).\n",
    "Desses 5 tipos, o complex é o único que não é muito usada, então, não vou  citar ele aqui.\n",
    "\n"
   ]
  },
  {
   "cell_type": "markdown",
   "metadata": {},
   "source": [
    "String > é uma sequência de caracteres, que usamos para expressar frases, textos ou palavras no nosso programa.\n",
    "Vamos ver exemplos de como usar String!"
   ]
  },
  {
   "cell_type": "code",
   "execution_count": 3,
   "metadata": {},
   "outputs": [],
   "source": [
    "palavra = \"noite\"\n",
    "frase = 'dama da meia noite'\n",
    "texto = \"A dama da meia noite é um livro escrito por Cassandra Clare, o qual ela retorna ao universo dos caçadores de sombras com Emma Carstairs e Julian Blackthorn\""
   ]
  },
  {
   "cell_type": "markdown",
   "metadata": {},
   "source": [
    "Existe uma função chamada \"print\" que usamos quando queremos mostrar algo para o usuario."
   ]
  },
  {
   "cell_type": "code",
   "execution_count": 1,
   "metadata": {},
   "outputs": [
    {
     "name": "stdout",
     "output_type": "stream",
     "text": [
      "noite\n",
      "dama da meia noite\n",
      "A dama da meia noite é um livro escrito por Cassandra Clare, o qual ela retorna ao universo dos caçadores de sombras com Emma Carstairs e Julian Blackthorn\n"
     ]
    }
   ],
   "source": [
    "palavra = \"noite\"\n",
    "frase = 'dama da meia noite'\n",
    "texto = \"A dama da meia noite é um livro escrito por Cassandra Clare, o qual ela retorna ao universo dos caçadores de sombras com Emma Carstairs e Julian Blackthorn\"\n",
    "\n",
    "print(palavra)\n",
    "print(frase)\n",
    "print(texto)"
   ]
  },
  {
   "cell_type": "markdown",
   "metadata": {},
   "source": [
    "Existe uma momentos que precisamos quebrar linhas na string na saída para o úsuario. Conseguimos fazer isso usando '\\n'."
   ]
  },
  {
   "cell_type": "code",
   "execution_count": 8,
   "metadata": {},
   "outputs": [
    {
     "name": "stdout",
     "output_type": "stream",
     "text": [
      "noite\n",
      "dama da meia noite\n",
      "A dama da meia noite é um livro escrito por Cassandra Clare, o qual ela\n",
      "retorna ao universo dos caçadores de sombras, com Emma Carstairs e Julian Blackthorn\n"
     ]
    }
   ],
   "source": [
    "palavra = \"noite\"\n",
    "frase = 'dama da meia noite'\n",
    "texto = \"A dama da meia noite é um livro escrito por Cassandra Clare, o qual ela\\nretorna ao universo dos caçadores de sombras, com Emma Carstairs e Julian Blackthorn\"\n",
    "\n",
    "print(palavra)\n",
    "print(frase)\n",
    "print(texto)"
   ]
  },
  {
   "cell_type": "markdown",
   "metadata": {},
   "source": [
    "Nós podemos fazer algumas operações com as Strings, por conta da conversão automatica que Python faz, mas apenas soma e multiplicação."
   ]
  },
  {
   "cell_type": "code",
   "execution_count": 13,
   "metadata": {},
   "outputs": [
    {
     "name": "stdout",
     "output_type": "stream",
     "text": [
      "noite noite noite \n",
      "dama da meia noite \n"
     ]
    }
   ],
   "source": [
    "palavra = \"noite \"\n",
    "\n",
    "print(palavra * 3)\n",
    "print(\"dama da meia \" + palavra)"
   ]
  },
  {
   "cell_type": "markdown",
   "metadata": {},
   "source": [
    "Também é possivel manipular as Strings de diversas maneiras."
   ]
  },
  {
   "cell_type": "markdown",
   "metadata": {},
   "source": [
    "Saber quantos caracteres tem determinada string."
   ]
  },
  {
   "cell_type": "code",
   "execution_count": 14,
   "metadata": {},
   "outputs": [
    {
     "name": "stdout",
     "output_type": "stream",
     "text": [
      "5\n"
     ]
    }
   ],
   "source": [
    "palavra = \"noite\"\n",
    "\n",
    "print(len(palavra))"
   ]
  },
  {
   "cell_type": "markdown",
   "metadata": {},
   "source": [
    "Podemos saber quantas vezes uma palavra ou caractere aparece na string."
   ]
  },
  {
   "cell_type": "code",
   "execution_count": 18,
   "metadata": {},
   "outputs": [
    {
     "name": "stdout",
     "output_type": "stream",
     "text": [
      "4\n",
      "2\n"
     ]
    }
   ],
   "source": [
    "frase = 'dama da meia noite'\n",
    "\n",
    "print(frase.count('a'))\n",
    "print(frase.count('da'))\n"
   ]
  },
  {
   "cell_type": "markdown",
   "metadata": {},
   "source": [
    "Achar qual posição está palavra ou caractere na string. Lembrando que ela mostra onde está o 1, caso tenha algum repedito."
   ]
  },
  {
   "cell_type": "code",
   "execution_count": 27,
   "metadata": {},
   "outputs": [
    {
     "name": "stdout",
     "output_type": "stream",
     "text": [
      "2\n",
      "13\n"
     ]
    }
   ],
   "source": [
    "frase = 'dama da meia noite'\n",
    "\n",
    "print(frase.find('m'))\n",
    "print(frase.find('noite'))"
   ]
  },
  {
   "cell_type": "markdown",
   "metadata": {},
   "source": [
    "Outra manipulação muito usada é o split, você pode pegar uma frase e transformar em uma lista. Caso não seja passado nada no parentese, ele entende que deve separar pelas espaços em branco."
   ]
  },
  {
   "cell_type": "code",
   "execution_count": 29,
   "metadata": {},
   "outputs": [
    {
     "name": "stdout",
     "output_type": "stream",
     "text": [
      "['dama', 'da', 'meia', 'noite']\n"
     ]
    }
   ],
   "source": [
    "frase = 'dama da meia noite'\n",
    "lista = frase.split()\n",
    "print(lista)"
   ]
  },
  {
   "cell_type": "raw",
   "metadata": {},
   "source": [
    "Podemos transformar toda a string em maiuscula ou minuscula."
   ]
  },
  {
   "cell_type": "code",
   "execution_count": 31,
   "metadata": {},
   "outputs": [
    {
     "name": "stdout",
     "output_type": "stream",
     "text": [
      "DAMA DA MEIA NOITE\n",
      "dama da meia noite\n"
     ]
    }
   ],
   "source": [
    "frase = 'Dama da Meia Noite'\n",
    "print(frase.upper())\n",
    "print(frase.lower())"
   ]
  },
  {
   "cell_type": "markdown",
   "metadata": {},
   "source": [
    "Também podemos saber se determinada string é so de letras, de números ou não tem \n",
    "caracteres especiais."
   ]
  },
  {
   "cell_type": "code",
   "execution_count": 49,
   "metadata": {},
   "outputs": [
    {
     "name": "stdout",
     "output_type": "stream",
     "text": [
      "True\n",
      "True\n",
      "True\n",
      "False\n",
      "False\n",
      "True\n"
     ]
    }
   ],
   "source": [
    "palavra = \"no1te\"\n",
    "palavra1 = \"noite\"\n",
    "palavra2 = \"1234\"\n",
    "\n",
    "#verifica se contém amenas letras e números\n",
    "print(palavra1.isalnum())\n",
    "print(palavra.isalnum())\n",
    "\n",
    "#verifica se contém apenas letras(espaços não contam como letras)\n",
    "print(palavra1.isalpha())\n",
    "print(palavra.isalpha())\n",
    "\n",
    "#verifica se contém apenas números\n",
    "print(palavra.isdigit())\n",
    "print(palavra2.isdigit())"
   ]
  },
  {
   "cell_type": "markdown",
   "metadata": {},
   "source": [
    "Existe uma lista imenção de manipulações que você pode fazer com string! \n",
    "Nó final a recomendações de sites e livros que podem te ajudar!"
   ]
  },
  {
   "cell_type": "code",
   "execution_count": null,
   "metadata": {},
   "outputs": [],
   "source": []
  }
 ],
 "metadata": {
  "celltoolbar": "Edit Metadata",
  "kernelspec": {
   "display_name": "Python 3",
   "language": "python",
   "name": "python3"
  },
  "language_info": {
   "codemirror_mode": {
    "name": "ipython",
    "version": 3
   },
   "file_extension": ".py",
   "mimetype": "text/x-python",
   "name": "python",
   "nbconvert_exporter": "python",
   "pygments_lexer": "ipython3",
   "version": "3.6.5"
  }
 },
 "nbformat": 4,
 "nbformat_minor": 2
}
